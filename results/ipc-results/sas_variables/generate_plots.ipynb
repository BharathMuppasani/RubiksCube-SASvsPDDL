{
 "cells": [
  {
   "cell_type": "code",
   "execution_count": 13,
   "metadata": {},
   "outputs": [],
   "source": [
    "def extract_variables_from_sas(filename):\n",
    "    # Dictionary to store results\n",
    "    atom_to_vars = {}\n",
    "\n",
    "    # Open the file and read line by line\n",
    "    with open(filename, 'r') as file:\n",
    "        lines = file.readlines()\n",
    "\n",
    "    is_inside_variable_block = False\n",
    "    current_variable = None\n",
    "\n",
    "    # Process each line\n",
    "    for line in lines:\n",
    "        stripped_line = line.strip()  # Remove any leading/trailing whitespace\n",
    "        if stripped_line == \"begin_variable\":\n",
    "            is_inside_variable_block = True\n",
    "        elif stripped_line == \"end_variable\":\n",
    "            is_inside_variable_block = False\n",
    "            current_variable = None\n",
    "        elif is_inside_variable_block:\n",
    "            if current_variable is None:\n",
    "                current_variable = int(stripped_line.replace('var', ''))\n",
    "            elif (\"Atom\" in stripped_line) and (\"NegatedAtom\" not in stripped_line):\n",
    "                atom_name = stripped_line.split(\" \")[1].split('(')[0]  # Extract the atom name\n",
    "                if atom_name not in atom_to_vars:\n",
    "                    atom_to_vars[atom_name] = []\n",
    "                atom_to_vars[atom_name].append(current_variable)\n",
    "\n",
    "    return atom_to_vars"
   ]
  },
  {
   "cell_type": "code",
   "execution_count": 15,
   "metadata": {},
   "outputs": [],
   "source": [
    "sas_file = 'output.sas'\n",
    "atoms_dict = extract_variables_from_sas(sas_file)"
   ]
  },
  {
   "cell_type": "code",
   "execution_count": 19,
   "metadata": {},
   "outputs": [],
   "source": [
    "max_manual_pdb = 'astar(maximize([projections(manual_patterns([[ 455, 431, 407, 479]]), create_complete_transition_system=true), projections(manual_patterns([[ 335, 383, 359, 311]]), create_complete_transition_system=true), projections(manual_patterns([[ 239, 287, 215, 263]]), create_complete_transition_system=true), projections(manual_patterns([[ 143, 167, 119, 191]]), create_complete_transition_system=true), projections(manual_patterns([[ 47, 95, 23, 71]]), create_complete_transition_system=true)]))'"
   ]
  },
  {
   "cell_type": "code",
   "execution_count": 55,
   "metadata": {},
   "outputs": [
    {
     "name": "stdout",
     "output_type": "stream",
     "text": [
      "astar(maximize([projections(manual_patterns([[ 288, 296, 289, 290, 293, 300, 291, 297]]), create_complete_transition_system=true), projections(manual_patterns([[ 294, 304, 292, 305, 303, 306, 295, 307]]), create_complete_transition_system=true), projections(manual_patterns([[ 0, 10, 3, 12, 4, 20, 1, 9]]), create_complete_transition_system=true), projections(manual_patterns([[ 6, 15, 8, 14, 16, 22, 18, 19]]), create_complete_transition_system=true), projections(manual_patterns([[ 2, 7, 5, 13, 11, 23, 17, 21]]), create_complete_transition_system=true)]))\n"
     ]
    }
   ],
   "source": [
    "import re\n",
    "\n",
    "\n",
    "new_manual_pdb_str = max_manual_pdb\n",
    "patterns = re.findall(r\"manual_patterns\\(\\[\\[.*?\\]\\]\\)\", max_manual_pdb)\n",
    "for pattern in patterns:\n",
    "    numbers_str = re.findall(r\"\\d+\", pattern)\n",
    "    temp = []\n",
    "    for number in numbers_str:\n",
    "        for key in atoms_dict.keys():\n",
    "            if int(number) in atoms_dict[key]:\n",
    "                # add all items of atoms_dict[key] to temp\n",
    "                temp.extend(atoms_dict[key][:2])\n",
    "                \n",
    "    \n",
    "    new_pattern = 'manual_patterns([[ ' + ', '.join([str(i) for i in temp]) + ']])'\n",
    "    new_manual_pdb_str = new_manual_pdb_str.replace(pattern, new_pattern)\n",
    "    \n",
    "print(new_manual_pdb_str)\n"
   ]
  },
  {
   "cell_type": "code",
   "execution_count": 50,
   "metadata": {},
   "outputs": [
    {
     "name": "stdout",
     "output_type": "stream",
     "text": [
      "astar(maximize([projections(manual_patterns([[ 0, 10, 24, 44, 48, 59, 72, 83, 96, 107, 120, 131, 144, 155, 168, 179, 192, 203, 216, 239, 240, 261, 264, 275]]), create_complete_transition_system=true), projections(manual_patterns([[ 1, 9, 25, 33, 49, 58, 73, 82, 97, 106, 121, 130, 145, 154, 169, 178, 193, 202, 217, 226, 241, 263, 265, 274]]), create_complete_transition_system=true), projections(manual_patterns([[ 2, 7, 26, 47, 50, 55, 74, 79, 98, 103, 122, 127, 146, 151, 170, 175, 194, 199, 218, 223, 242, 247, 266, 271]]), create_complete_transition_system=true), projections(manual_patterns([[ 3, 12, 27, 36, 51, 61, 75, 85, 99, 109, 123, 133, 147, 157, 171, 181, 195, 205, 219, 229, 243, 260, 267, 287]]), create_complete_transition_system=true), projections(manual_patterns([[ 4, 20, 28, 34, 52, 60, 76, 84, 100, 108, 124, 132, 148, 156, 172, 180, 196, 215, 220, 227, 244, 262, 268, 276]]), create_complete_transition_system=true), projections(manual_patterns([[ 5, 13, 29, 45, 53, 63, 77, 95, 101, 111, 125, 135, 149, 159, 173, 183, 197, 206, 221, 238, 245, 257, 269, 278]]), create_complete_transition_system=true), projections(manual_patterns([[ 6, 15, 30, 46, 54, 68, 78, 94, 102, 117, 126, 143, 150, 164, 174, 189, 198, 208, 222, 237, 246, 252, 270, 283]]), create_complete_transition_system=true), projections(manual_patterns([[ 8, 14, 32, 38, 56, 67, 80, 91, 104, 116, 128, 140, 152, 167, 176, 188, 200, 207, 224, 231, 248, 250, 272, 282]]), create_complete_transition_system=true), projections(manual_patterns([[ 11, 23, 31, 35, 57, 62, 81, 86, 105, 110, 129, 134, 153, 158, 177, 182, 201, 204, 225, 228, 249, 251, 273, 277]]), create_complete_transition_system=true), projections(manual_patterns([[ 16, 22, 39, 40, 65, 70, 89, 92, 114, 119, 138, 141, 162, 166, 186, 190, 209, 213, 232, 233, 253, 255, 281, 284]]), create_complete_transition_system=true), projections(manual_patterns([[ 17, 21, 37, 41, 64, 71, 87, 88, 112, 115, 136, 139, 160, 163, 184, 187, 210, 214, 230, 234, 256, 259, 279, 286]]), create_complete_transition_system=true), projections(manual_patterns([[ 18, 19, 42, 43, 66, 69, 90, 93, 113, 118, 137, 142, 161, 165, 185, 191, 211, 212, 235, 236, 254, 258, 280, 285]]), create_complete_transition_system=true), projections(manual_patterns([[ 288, 296, 298, 312, 320, 322, 336, 344, 346, 360, 368, 370, 384, 392, 394, 408, 411, 429, 432, 440, 455, 456, 461, 466]]), create_complete_transition_system=true), projections(manual_patterns([[ 289, 290, 299, 313, 314, 323, 337, 338, 347, 361, 362, 371, 385, 386, 395, 409, 418, 431, 433, 434, 443, 457, 458, 465]]), create_complete_transition_system=true), projections(manual_patterns([[ 291, 297, 301, 315, 321, 325, 339, 345, 349, 363, 369, 373, 387, 393, 397, 412, 417, 423, 435, 441, 449, 467, 468, 479]]), create_complete_transition_system=true), projections(manual_patterns([[ 292, 305, 310, 316, 329, 334, 340, 353, 357, 364, 377, 383, 388, 399, 403, 415, 425, 430, 436, 442, 445, 459, 462, 470]]), create_complete_transition_system=true), projections(manual_patterns([[ 293, 300, 302, 317, 324, 326, 341, 348, 350, 365, 372, 374, 389, 396, 407, 410, 414, 419, 437, 451, 453, 463, 473, 477]]), create_complete_transition_system=true), projections(manual_patterns([[ 294, 304, 309, 318, 328, 335, 342, 352, 356, 366, 376, 381, 390, 398, 401, 413, 427, 428, 438, 444, 454, 460, 464, 471]]), create_complete_transition_system=true), projections(manual_patterns([[ 295, 307, 311, 319, 331, 333, 343, 355, 358, 367, 379, 382, 391, 402, 405, 420, 422, 424, 439, 446, 448, 469, 474, 478]]), create_complete_transition_system=true), projections(manual_patterns([[ 303, 306, 308, 327, 330, 332, 351, 354, 359, 375, 378, 380, 400, 404, 406, 416, 421, 426, 447, 450, 452, 472, 475, 476]]), create_complete_transition_system=true), ]))\n"
     ]
    }
   ],
   "source": [
    "import re\n",
    "\n",
    "\n",
    "new_manual_pdb_str = 'astar(maximize(['\n",
    "end = ']))'\n",
    "for atom in atoms_dict:\n",
    "    str1 = 'projections(manual_patterns([[ '\n",
    "    str2 = ']]), create_complete_transition_system=true), '\n",
    "    pattern = str1 + ', '.join([str(i) for i in atoms_dict[atom]]) + str2\n",
    "    new_manual_pdb_str += pattern\n",
    "new_manual_pdb_str += end\n",
    "print(new_manual_pdb_str)\n"
   ]
  },
  {
   "cell_type": "code",
   "execution_count": 53,
   "metadata": {},
   "outputs": [
    {
     "name": "stdout",
     "output_type": "stream",
     "text": [
      "astar(maximize([projections(manual_patterns([[ 288, 296, 298, 312, 320, 322, 336, 344, 346, 360, 368, 370, 384, 392, 394, 408, 411, 429, 432, 440, 455, 456, 461, 466], [ 289, 290, 299, 313, 314, 323, 337, 338, 347, 361, 362, 371, 385, 386, 395, 409, 418, 431, 433, 434, 443, 457, 458, 465], [ 293, 300, 302, 317, 324, 326, 341, 348, 350, 365, 372, 374, 389, 396, 407, 410, 414, 419, 437, 451, 453, 463, 473, 477], [ 291, 297, 301, 315, 321, 325, 339, 345, 349, 363, 369, 373, 387, 393, 397, 412, 417, 423, 435, 441, 449, 467, 468, 479]]), create_complete_transition_system=true), projections(manual_patterns([[ 294, 304, 309, 318, 328, 335, 342, 352, 356, 366, 376, 381, 390, 398, 401, 413, 427, 428, 438, 444, 454, 460, 464, 471], [ 292, 305, 310, 316, 329, 334, 340, 353, 357, 364, 377, 383, 388, 399, 403, 415, 425, 430, 436, 442, 445, 459, 462, 470], [ 303, 306, 308, 327, 330, 332, 351, 354, 359, 375, 378, 380, 400, 404, 406, 416, 421, 426, 447, 450, 452, 472, 475, 476], [ 295, 307, 311, 319, 331, 333, 343, 355, 358, 367, 379, 382, 391, 402, 405, 420, 422, 424, 439, 446, 448, 469, 474, 478]]), create_complete_transition_system=true), projections(manual_patterns([[ 0, 10, 24, 44, 48, 59, 72, 83, 96, 107, 120, 131, 144, 155, 168, 179, 192, 203, 216, 239, 240, 261, 264, 275], [ 3, 12, 27, 36, 51, 61, 75, 85, 99, 109, 123, 133, 147, 157, 171, 181, 195, 205, 219, 229, 243, 260, 267, 287], [ 4, 20, 28, 34, 52, 60, 76, 84, 100, 108, 124, 132, 148, 156, 172, 180, 196, 215, 220, 227, 244, 262, 268, 276], [ 1, 9, 25, 33, 49, 58, 73, 82, 97, 106, 121, 130, 145, 154, 169, 178, 193, 202, 217, 226, 241, 263, 265, 274]]), create_complete_transition_system=true), projections(manual_patterns([[ 6, 15, 30, 46, 54, 68, 78, 94, 102, 117, 126, 143, 150, 164, 174, 189, 198, 208, 222, 237, 246, 252, 270, 283], [ 8, 14, 32, 38, 56, 67, 80, 91, 104, 116, 128, 140, 152, 167, 176, 188, 200, 207, 224, 231, 248, 250, 272, 282], [ 16, 22, 39, 40, 65, 70, 89, 92, 114, 119, 138, 141, 162, 166, 186, 190, 209, 213, 232, 233, 253, 255, 281, 284], [ 18, 19, 42, 43, 66, 69, 90, 93, 113, 118, 137, 142, 161, 165, 185, 191, 211, 212, 235, 236, 254, 258, 280, 285]]), create_complete_transition_system=true), projections(manual_patterns([[ 2, 7, 26, 47, 50, 55, 74, 79, 98, 103, 122, 127, 146, 151, 170, 175, 194, 199, 218, 223, 242, 247, 266, 271], [ 5, 13, 29, 45, 53, 63, 77, 95, 101, 111, 125, 135, 149, 159, 173, 183, 197, 206, 221, 238, 245, 257, 269, 278], [ 11, 23, 31, 35, 57, 62, 81, 86, 105, 110, 129, 134, 153, 158, 177, 182, 201, 204, 225, 228, 249, 251, 273, 277], [ 17, 21, 37, 41, 64, 71, 87, 88, 112, 115, 136, 139, 160, 163, 184, 187, 210, 214, 230, 234, 256, 259, 279, 286]]), create_complete_transition_system=true)]))\n"
     ]
    }
   ],
   "source": [
    "import re\n",
    "\n",
    "\n",
    "new_manual_pdb_str = max_manual_pdb\n",
    "patterns = re.findall(r\"manual_patterns\\(\\[\\[.*?\\]\\]\\)\", max_manual_pdb)\n",
    "for pattern in patterns:\n",
    "    numbers_str = re.findall(r\"\\d+\", pattern)\n",
    "    new_pattern = 'manual_patterns([[ '\n",
    "    for number in numbers_str:\n",
    "        temp = []\n",
    "        for key in atoms_dict.keys():\n",
    "            if int(number) in atoms_dict[key]:\n",
    "                # add all items of atoms_dict[key] to temp\n",
    "                temp.extend(atoms_dict[key])\n",
    "        new_pattern += ', '.join([str(i) for i in temp]) + '], [ '\n",
    "                \n",
    "    \n",
    "    new_pattern = new_pattern[:-5] + ']])'\n",
    "    new_manual_pdb_str = new_manual_pdb_str.replace(pattern, new_pattern)\n",
    "    \n",
    "print(new_manual_pdb_str)\n"
   ]
  }
 ],
 "metadata": {
  "kernelspec": {
   "display_name": "base",
   "language": "python",
   "name": "python3"
  },
  "language_info": {
   "codemirror_mode": {
    "name": "ipython",
    "version": 3
   },
   "file_extension": ".py",
   "mimetype": "text/x-python",
   "name": "python",
   "nbconvert_exporter": "python",
   "pygments_lexer": "ipython3",
   "version": "3.9.13"
  },
  "orig_nbformat": 4
 },
 "nbformat": 4,
 "nbformat_minor": 2
}
