{
 "cells": [
  {
   "cell_type": "code",
   "execution_count": 41,
   "metadata": {},
   "outputs": [],
   "source": [
    "import glob\n",
    "import os\n",
    "import json\n",
    "import pandas as pd\n",
    "import matplotlib.pyplot as plt\n",
    "import numpy as np\n",
    "import re"
   ]
  },
  {
   "cell_type": "code",
   "execution_count": 42,
   "metadata": {},
   "outputs": [
    {
     "data": {
      "text/plain": [
       "dict_keys(['clemens_problems_12_test', 'test_problems_18', 'clemens_problems_12', 'clemens_problems_18_test', 'test_problems_12', 'clemens_problems_18'])"
      ]
     },
     "execution_count": 42,
     "metadata": {},
     "output_type": "execute_result"
    }
   ],
   "source": [
    "optimal_plans_path = 'optimal_plans/'\n",
    "folders = os.listdir(optimal_plans_path)\n",
    "opt_dict = {fold: glob.glob(os.path.join(optimal_plans_path, fold, 'optimal_plans') + '/*.txt') \n",
    "            for fold in folders if ('problems' in fold)}\n",
    "\n",
    "opt_dict.keys()"
   ]
  },
  {
   "cell_type": "code",
   "execution_count": 43,
   "metadata": {},
   "outputs": [
    {
     "data": {
      "text/plain": [
       "dict_keys(['clemens_results_18', 'sas_results', 'test_results_12', 'clemens_results_12', 'test_results_18'])"
      ]
     },
     "execution_count": 43,
     "metadata": {},
     "output_type": "execute_result"
    }
   ],
   "source": [
    "results_dict = {folder: {method: glob.glob( os.path.join(folder, method) + '/plan*.txt' ) \n",
    "                         for method in os.listdir( os.path.join(folder) ) if 'DS_Store' not in method } \n",
    "                         for folder in os.listdir('./') if ('results' in folder) and os.path.isdir(folder)}\n",
    "\n",
    "results_dict.keys()"
   ]
  },
  {
   "cell_type": "code",
   "execution_count": 44,
   "metadata": {},
   "outputs": [
    {
     "name": "stdout",
     "output_type": "stream",
     "text": [
      "clemens_results_18 blind 65 100.0\n",
      "clemens_results_18 merge-and-shrink 95 100.0\n",
      "clemens_results_18 max-systematic-pdb 73 100.0\n",
      "clemens_results_18 context_enhanced_additive 75 78.67\n",
      "clemens_results_18 max-manual-pdb 78 100.0\n",
      "clemens_results_18 goal_count 85 89.41\n",
      "clemens_results_18 max 47 100.0\n",
      "clemens_results_18 lm_cost 86 100.0\n",
      "clemens_results_18 ff 113 79.65\n",
      "clemens_results_18 causal_graph 75 80.0\n",
      "sas_results blind 66 100.0\n",
      "sas_results merge-and-shrink 90 100.0\n",
      "sas_results max-systematic-pdb 120 100.0\n",
      "sas_results context_enhanced_additive 77 75.32\n",
      "sas_results max-manual-pdb 123 100.0\n",
      "sas_results goal_count 87 89.66\n",
      "sas_results max 58 100.0\n",
      "sas_results lm_cost 87 100.0\n",
      "sas_results ff 123 79.67\n",
      "sas_results causal_graph 77 75.32\n",
      "test_results_12 blind 78 100.0\n",
      "test_results_12 merge-and-shrink 114 100.0\n",
      "test_results_12 max-systematic-pdb 88 100.0\n",
      "test_results_12 context_enhanced_additive 99 61.62\n",
      "test_results_12 max-manual-pdb 95 100.0\n",
      "test_results_12 goal_count 103 99.03\n",
      "test_results_12 max 107 100.0\n",
      "test_results_12 lm_cost 103 100.0\n",
      "test_results_12 ff 137 99.27\n",
      "test_results_12 causal_graph 96 66.67\n",
      "clemens_results_12 blind 56 100.0\n",
      "clemens_results_12 merge-and-shrink 82 100.0\n",
      "clemens_results_12 max-systematic-pdb 63 100.0\n",
      "clemens_results_12 context_enhanced_additive 68 66.18\n",
      "clemens_results_12 max-manual-pdb 64 100.0\n",
      "clemens_results_12 goal_count 75 94.67\n",
      "clemens_results_12 max 44 100.0\n",
      "clemens_results_12 lm_cost 75 100.0\n",
      "clemens_results_12 ff 104 98.08\n",
      "clemens_results_12 causal_graph 72 68.06\n",
      "test_results_18 blind 67 100.0\n",
      "test_results_18 merge-and-shrink 105 100.0\n",
      "test_results_18 max-systematic-pdb 78 100.0\n",
      "test_results_18 context_enhanced_additive 71 85.92\n",
      "test_results_18 max-manual-pdb 83 100.0\n",
      "test_results_18 goal_count 88 97.73\n",
      "test_results_18 max 78 100.0\n",
      "test_results_18 lm_cost 97 100.0\n",
      "test_results_18 ff 135 88.89\n",
      "test_results_18 causal_graph 76 81.58\n"
     ]
    }
   ],
   "source": [
    "for key in results_dict:\n",
    "    if 'DeepCubeA' in key:\n",
    "        continue\n",
    "\n",
    "    if 'sas' not in key:\n",
    "        key_in_opt_dict = key.replace('results', 'problems')\n",
    "        if 'clemens' in key:\n",
    "            key_in_opt_dict += '_test'\n",
    "    else:\n",
    "        # continue\n",
    "        key_in_opt_dict = 'clemens_problems_18_test'\n",
    "\n",
    "    for subkey in results_dict[key]:\n",
    "        count = 0\n",
    "        for item in results_dict[key][subkey]:\n",
    "\n",
    "            if 'sas' not in key:\n",
    "                item_basename = os.path.basename(item)\n",
    "                item_name_opt = item_basename.replace('plan', 'plan_problem')\n",
    "            else:\n",
    "                item_basename = os.path.basename(item)\n",
    "                problem_numbers = re.findall(r'(\\d+)', item_basename)\n",
    "                item_name_opt = f'plan_problem_{problem_numbers[0]}_{problem_numbers[1]}.txt'\n",
    "\n",
    "            opt_item_path = opt_dict[key_in_opt_dict][0].split('plan_problem')[0] + item_name_opt\n",
    "\n",
    "            with open(opt_item_path, 'r') as f:\n",
    "                opt_content = f.read()\n",
    "            \n",
    "            with open(item, 'r') as f:\n",
    "                content = f.read()\n",
    "\n",
    "            item_cost = int(content.split('=')[1].split('(')[0].strip())\n",
    "            opt_item_cost = re.search(r'(\\d+)', opt_content.split('*')[0] ).group(1)\n",
    "            if item_cost == int(opt_item_cost):\n",
    "                count += 1\n",
    "        print(key, subkey, len(results_dict[key][subkey]) , round(count/len(results_dict[key][subkey]) * 100,2) )\n",
    "            \n"
   ]
  },
  {
   "cell_type": "code",
   "execution_count": 45,
   "metadata": {},
   "outputs": [
    {
     "data": {
      "text/plain": [
       "dict_keys(['DeepCubeA_18', 'DeepCubeA'])"
      ]
     },
     "execution_count": 45,
     "metadata": {},
     "output_type": "execute_result"
    }
   ],
   "source": [
    "dc_results_dict = {folder: {method: glob.glob( os.path.join(folder, method) + '/problem*.txt' ) \n",
    "                         for method in os.listdir( os.path.join(folder) ) if 'DS_Store' not in method } \n",
    "                         for folder in os.listdir('./') if ('DeepCubeA' in folder) and os.path.isdir(folder)}\n",
    "\n",
    "dc_results_dict.keys()"
   ]
  },
  {
   "cell_type": "code",
   "execution_count": 47,
   "metadata": {},
   "outputs": [
    {
     "name": "stdout",
     "output_type": "stream",
     "text": [
      "DeepCubeA_18 problems_test_out test_problems_18 200 200 135 67.5\n",
      "DeepCubeA_18 clemens_test_out clemens_problems_18 200 200 15 7.5\n",
      "DeepCubeA problems_test_out test_problems_12 200 200 189 94.5\n",
      "DeepCubeA clemens_test_out clemens_problems_18 200 200 157 78.5\n"
     ]
    }
   ],
   "source": [
    "for key in dc_results_dict:\n",
    "    for subkey in dc_results_dict[key]:\n",
    "        count = 0\n",
    "        count2 = 0\n",
    "        for item in dc_results_dict[key][subkey]:\n",
    "\n",
    "            if '18' in key:\n",
    "                if 'clemens' in subkey:\n",
    "                    key_in_opt_dict = 'clemens_problems_18'\n",
    "                elif 'test' in subkey:\n",
    "                    key_in_opt_dict = 'test_problems_18'\n",
    "            else:\n",
    "                if 'clemens' in subkey:\n",
    "                    key_in_opt_dict = 'clemens_problems_18'\n",
    "                elif 'test' in subkey:\n",
    "                    key_in_opt_dict = 'test_problems_12'\n",
    "\n",
    "            item_basename = os.path.basename(item)\n",
    "            item_name_opt = 'plan_' + item_basename\n",
    "\n",
    "            opt_item_path = opt_dict[key_in_opt_dict][0].split('plan_problem')[0] + item_name_opt\n",
    "\n",
    "            if not os.path.exists(opt_item_path):\n",
    "                # print('File not found', opt_item_path)\n",
    "                continue\n",
    "            count2 += 1\n",
    "            with open(opt_item_path, 'r') as f:\n",
    "                opt_content = f.read()\n",
    "            \n",
    "            with open(item, 'r') as f:\n",
    "                content = f.read()\n",
    "\n",
    "            item_cost = int(content.split('\\n')[0].split(';;')[1].strip())\n",
    "            opt_item_cost = re.search(r'(\\d+)', opt_content.split('*')[0] ).group(1)\n",
    "            if '18' not in key and '18' in key_in_opt_dict:\n",
    "                opt_item_cost = re.search(r'(\\d+)', opt_content.split('*')[1] ).group(1)\n",
    "\n",
    "            if item_cost == int(opt_item_cost):\n",
    "                count += 1\n",
    "        print(key, subkey, key_in_opt_dict, len(dc_results_dict[key][subkey]), count2, count, round(count/count2 * 100,2) )\n",
    "            \n"
   ]
  },
  {
   "cell_type": "code",
   "execution_count": null,
   "metadata": {},
   "outputs": [],
   "source": []
  }
 ],
 "metadata": {
  "kernelspec": {
   "display_name": "base",
   "language": "python",
   "name": "python3"
  },
  "language_info": {
   "codemirror_mode": {
    "name": "ipython",
    "version": 3
   },
   "file_extension": ".py",
   "mimetype": "text/x-python",
   "name": "python",
   "nbconvert_exporter": "python",
   "pygments_lexer": "ipython3",
   "version": "3.9.13"
  },
  "orig_nbformat": 4
 },
 "nbformat": 4,
 "nbformat_minor": 2
}
